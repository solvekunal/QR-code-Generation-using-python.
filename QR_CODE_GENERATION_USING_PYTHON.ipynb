{
 "cells": [
  {
   "cell_type": "code",
   "execution_count": 1,
   "id": "edec06e4-2597-4e81-a8d1-5dd98417c1b5",
   "metadata": {
    "scrolled": true
   },
   "outputs": [
    {
     "name": "stdout",
     "output_type": "stream",
     "text": [
      "Collecting qrcode[pil]\n",
      "  Downloading qrcode-7.4.2-py3-none-any.whl.metadata (17 kB)\n",
      "Requirement already satisfied: typing-extensions in e:\\new_downloads_default_folder\\anaconda_destination_folder\\lib\\site-packages (from qrcode[pil]) (4.11.0)\n",
      "Collecting pypng (from qrcode[pil])\n",
      "  Downloading pypng-0.20220715.0-py3-none-any.whl.metadata (13 kB)\n",
      "Requirement already satisfied: colorama in e:\\new_downloads_default_folder\\anaconda_destination_folder\\lib\\site-packages (from qrcode[pil]) (0.4.6)\n",
      "Requirement already satisfied: pillow>=9.1.0 in e:\\new_downloads_default_folder\\anaconda_destination_folder\\lib\\site-packages (from qrcode[pil]) (10.3.0)\n",
      "Downloading pypng-0.20220715.0-py3-none-any.whl (58 kB)\n",
      "   ---------------------------------------- 0.0/58.1 kB ? eta -:--:--\n",
      "   -------------- ------------------------- 20.5/58.1 kB 330.3 kB/s eta 0:00:01\n",
      "   ---------------------------------------- 58.1/58.1 kB 759.0 kB/s eta 0:00:00\n",
      "Downloading qrcode-7.4.2-py3-none-any.whl (46 kB)\n",
      "   ---------------------------------------- 0.0/46.2 kB ? eta -:--:--\n",
      "   ---------------------------------------- 46.2/46.2 kB 1.1 MB/s eta 0:00:00\n",
      "Installing collected packages: pypng, qrcode\n",
      "Successfully installed pypng-0.20220715.0 qrcode-7.4.2\n",
      "Note: you may need to restart the kernel to use updated packages.\n"
     ]
    }
   ],
   "source": [
    "pip install qrcode[pil]"
   ]
  },
  {
   "cell_type": "code",
   "execution_count": 2,
   "id": "229b9ca8-853a-4b95-85bb-f350be31a2c1",
   "metadata": {
    "scrolled": true
   },
   "outputs": [
    {
     "name": "stdout",
     "output_type": "stream",
     "text": [
      "Requirement already satisfied: pillow in e:\\new_downloads_default_folder\\anaconda_destination_folder\\lib\\site-packages (10.3.0)\n",
      "Note: you may need to restart the kernel to use updated packages.\n"
     ]
    }
   ],
   "source": [
    "pip install pillow"
   ]
  },
  {
   "cell_type": "code",
   "execution_count": 3,
   "id": "fb525d42-836f-4e50-bce1-3048df02e992",
   "metadata": {
    "scrolled": true
   },
   "outputs": [
    {
     "name": "stdout",
     "output_type": "stream",
     "text": [
      "Collecting openai\n",
      "  Downloading openai-1.36.1-py3-none-any.whl.metadata (22 kB)\n",
      "Requirement already satisfied: anyio<5,>=3.5.0 in e:\\new_downloads_default_folder\\anaconda_destination_folder\\lib\\site-packages (from openai) (4.2.0)\n",
      "Requirement already satisfied: distro<2,>=1.7.0 in e:\\new_downloads_default_folder\\anaconda_destination_folder\\lib\\site-packages (from openai) (1.9.0)\n",
      "Requirement already satisfied: httpx<1,>=0.23.0 in e:\\new_downloads_default_folder\\anaconda_destination_folder\\lib\\site-packages (from openai) (0.27.0)\n",
      "Requirement already satisfied: pydantic<3,>=1.9.0 in e:\\new_downloads_default_folder\\anaconda_destination_folder\\lib\\site-packages (from openai) (2.8.2)\n",
      "Requirement already satisfied: sniffio in e:\\new_downloads_default_folder\\anaconda_destination_folder\\lib\\site-packages (from openai) (1.3.0)\n",
      "Requirement already satisfied: tqdm>4 in e:\\new_downloads_default_folder\\anaconda_destination_folder\\lib\\site-packages (from openai) (4.66.4)\n",
      "Requirement already satisfied: typing-extensions<5,>=4.7 in e:\\new_downloads_default_folder\\anaconda_destination_folder\\lib\\site-packages (from openai) (4.11.0)\n",
      "Requirement already satisfied: idna>=2.8 in e:\\new_downloads_default_folder\\anaconda_destination_folder\\lib\\site-packages (from anyio<5,>=3.5.0->openai) (3.7)\n",
      "Requirement already satisfied: certifi in e:\\new_downloads_default_folder\\anaconda_destination_folder\\lib\\site-packages (from httpx<1,>=0.23.0->openai) (2024.6.2)\n",
      "Requirement already satisfied: httpcore==1.* in e:\\new_downloads_default_folder\\anaconda_destination_folder\\lib\\site-packages (from httpx<1,>=0.23.0->openai) (1.0.5)\n",
      "Requirement already satisfied: h11<0.15,>=0.13 in e:\\new_downloads_default_folder\\anaconda_destination_folder\\lib\\site-packages (from httpcore==1.*->httpx<1,>=0.23.0->openai) (0.14.0)\n",
      "Requirement already satisfied: annotated-types>=0.4.0 in e:\\new_downloads_default_folder\\anaconda_destination_folder\\lib\\site-packages (from pydantic<3,>=1.9.0->openai) (0.6.0)\n",
      "Requirement already satisfied: pydantic-core==2.20.1 in e:\\new_downloads_default_folder\\anaconda_destination_folder\\lib\\site-packages (from pydantic<3,>=1.9.0->openai) (2.20.1)\n",
      "Requirement already satisfied: colorama in e:\\new_downloads_default_folder\\anaconda_destination_folder\\lib\\site-packages (from tqdm>4->openai) (0.4.6)\n",
      "Downloading openai-1.36.1-py3-none-any.whl (328 kB)\n",
      "   ---------------------------------------- 0.0/328.8 kB ? eta -:--:--\n",
      "   - -------------------------------------- 10.2/328.8 kB ? eta -:--:--\n",
      "   ------- -------------------------------- 61.4/328.8 kB 1.1 MB/s eta 0:00:01\n",
      "   ----------------- ---------------------- 143.4/328.8 kB 1.4 MB/s eta 0:00:01\n",
      "   ----------------------- ---------------- 194.6/328.8 kB 1.3 MB/s eta 0:00:01\n",
      "   ---------------------------------- ----- 286.7/328.8 kB 1.5 MB/s eta 0:00:01\n",
      "   ---------------------------------------- 328.8/328.8 kB 1.4 MB/s eta 0:00:00\n",
      "Installing collected packages: openai\n",
      "Successfully installed openai-1.36.1\n",
      "Note: you may need to restart the kernel to use updated packages.\n"
     ]
    }
   ],
   "source": [
    "pip install openai"
   ]
  },
  {
   "cell_type": "code",
   "execution_count": 1,
   "id": "a1559520-631d-41c3-8838-5471f55ca823",
   "metadata": {},
   "outputs": [],
   "source": [
    "import qrcode"
   ]
  },
  {
   "cell_type": "code",
   "execution_count": 2,
   "id": "3b382d96-14c8-490b-8357-711ba4edd1ba",
   "metadata": {},
   "outputs": [],
   "source": [
    "from PIL import Image"
   ]
  },
  {
   "cell_type": "code",
   "execution_count": 3,
   "id": "f3c17356-5a65-46eb-84b8-1d56af5f7764",
   "metadata": {},
   "outputs": [],
   "source": [
    "# Create a QR code with the generated text\n",
    "def create_qr_code(data, file_path):\n",
    "    qr = qrcode.QRCode(\n",
    "        version=1,\n",
    "        error_correction=qrcode.constants.ERROR_CORRECT_L,\n",
    "        box_size=10,\n",
    "        border=4,\n",
    "    )\n",
    "    qr.add_data(data)\n",
    "    qr.make(fit=True)\n",
    "\n",
    "    img = qr.make_image(fill_color=\"black\", back_color=\"white\")\n",
    "    img.save(file_path)"
   ]
  },
  {
   "cell_type": "code",
   "execution_count": 13,
   "id": "0621ff86-57f9-4850-9db2-57d862113840",
   "metadata": {},
   "outputs": [
    {
     "name": "stdout",
     "output_type": "stream",
     "text": [
      "QR code saved to : C:\\Users\\HP\\Pictures\\generated_qr_code8.png\n"
     ]
    }
   ],
   "source": [
    "# Example data (generated text or any other content)\n",
    "data ='This QR CODE has been generated by Kunal Singh'  # or any other data you want to encode\n",
    "file_path = r\"C:\\Users\\HP\\Pictures\\generated_qr_code8.png\"\n",
    "\n",
    "create_qr_code(data, file_path)\n",
    "print(f\"QR code saved to : {file_path}\")"
   ]
  },
  {
   "cell_type": "code",
   "execution_count": null,
   "id": "66ac0132-eaec-415a-b3cd-e5c8be678072",
   "metadata": {},
   "outputs": [],
   "source": []
  }
 ],
 "metadata": {
  "kernelspec": {
   "display_name": "Python 3 (ipykernel)",
   "language": "python",
   "name": "python3"
  },
  "language_info": {
   "codemirror_mode": {
    "name": "ipython",
    "version": 3
   },
   "file_extension": ".py",
   "mimetype": "text/x-python",
   "name": "python",
   "nbconvert_exporter": "python",
   "pygments_lexer": "ipython3",
   "version": "3.12.4"
  }
 },
 "nbformat": 4,
 "nbformat_minor": 5
}
